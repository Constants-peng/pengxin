{
 "cells": [
  {
   "cell_type": "code",
   "execution_count": 8,
   "metadata": {},
   "outputs": [
    {
     "name": "stdout",
     "output_type": "stream",
     "text": [
      "work_data.city_station ['子站', '作战部', '主站', '城市']\n"
     ]
    }
   ],
   "source": [
    "#\n",
    "import os\n",
    "import yaml\n",
    "import redis\n",
    "yamlpath = os.path.join(os.getcwd(), \"config.yaml\")\n",
    "with open(yamlpath, 'r', encoding='utf-8') as f:\n",
    "    cfg = f.read()\n",
    "cfg = yaml.load(cfg, Loader=yaml.FullLoader)\n",
    "\n",
    "\n",
    "def get_redis_pool():\n",
    "    pool = redis.ConnectionPool(**cfg['redis'])\n",
    "    redis_pool = redis.StrictRedis(connection_pool=pool)\n",
    "    return redis_pool\n",
    "\n",
    "\n",
    "def get_mysql_cfg(mysql_cfg=None):\n",
    "    if mysql_cfg is None or mysql_cfg == \"test\":\n",
    "        return cfg['test_mysql_cfg']\n",
    "    elif mysql_cfg == \"publish\":\n",
    "        return cfg['public_mysql_cfg']\n",
    "    else:\n",
    "        raise Exception(\"{}配置连接对mysql数据库有误\".format(mysql_cfg))\n",
    "\n",
    "\n",
    "def get_table_cfg(table_source:str):\n",
    "    return cfg[table_source]\n",
    "\n",
    "\n",
    "if __name__ == \"__main__\":\n",
    "    for table_name,fields in get_table_cfg().items():\n",
    "        print(table_name,fields)"
   ]
  }
 ],
 "metadata": {
  "kernelspec": {
   "display_name": "Python 3",
   "language": "python",
   "name": "python3"
  },
  "language_info": {
   "codemirror_mode": {
    "name": "ipython",
    "version": 3
   },
   "file_extension": ".py",
   "mimetype": "text/x-python",
   "name": "python",
   "nbconvert_exporter": "python",
   "pygments_lexer": "ipython3",
   "version": "3.6.8"
  }
 },
 "nbformat": 4,
 "nbformat_minor": 4
}
